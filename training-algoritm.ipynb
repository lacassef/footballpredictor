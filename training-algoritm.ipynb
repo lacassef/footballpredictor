{
 "cells": [
  {
   "cell_type": "code",
   "execution_count": 1,
   "metadata": {
    "collapsed": true
   },
   "outputs": [],
   "source": [
    "\n",
    "from numpy.random import seed\n",
    "seed(1) # keras seed fixing import\n",
    "\n",
    "import tensorflow\n",
    "tensorflow.random.set_seed(2) # tensorflow seed fixing\n",
    "\n",
    "import pandas\n",
    "\n",
    "# mlp for multi-label classification\n",
    "from numpy import mean\n",
    "from numpy import std\n",
    "from sklearn.model_selection import RepeatedKFold\n",
    "from keras.models import Sequential\n",
    "from keras.layers import Dense\n",
    "from sklearn.metrics import accuracy_score\n",
    "from sklearn.preprocessing import MinMaxScaler"
   ]
  },
  {
   "cell_type": "code",
   "execution_count": 2,
   "outputs": [
    {
     "name": "stdout",
     "output_type": "stream",
     "text": [
      "(400, 98) (400, 3)\n"
     ]
    }
   ],
   "source": [
    "\n",
    "dataframe = pandas.read_csv(\"persistence/training.csv\")\n",
    "dataset = dataframe.drop('awardedMatches', axis=1).drop('id', axis=1).values\n",
    "X = dataset[:,0:98].astype(float)\n",
    "y = dataset[:, 98:].astype(int)\n",
    "print(X.shape, y.shape)"
   ],
   "metadata": {
    "collapsed": false,
    "pycharm": {
     "name": "#%%\n"
    }
   }
  },
  {
   "cell_type": "code",
   "execution_count": 3,
   "outputs": [],
   "source": [
    "\n",
    "# define the model\n",
    "model = Sequential()\n",
    "model.add(Dense(90, input_dim=98, kernel_initializer='he_uniform', activation='relu'))\n",
    "model.add(Dense(3, activation='sigmoid'))\n",
    "model.compile(loss='binary_crossentropy', optimizer='adam')\n",
    "# model.fit(X, y, epochs=500, batch_size=10)"
   ],
   "metadata": {
    "collapsed": false,
    "pycharm": {
     "name": "#%%\n"
    }
   }
  },
  {
   "cell_type": "code",
   "execution_count": 4,
   "outputs": [
    {
     "name": "stdout",
     "output_type": "stream",
     "text": [
      ">0.28\n",
      ">0.47\n",
      ">0.57\n",
      ">0.70\n",
      ">0.88\n",
      ">0.88\n",
      ">0.93\n",
      ">0.93\n",
      ">0.93\n",
      ">0.95\n",
      ">0.95\n",
      ">0.95\n",
      ">0.97\n",
      ">1.00\n",
      ">1.00\n",
      ">1.00\n",
      ">1.00\n",
      ">1.00\n",
      ">1.00\n",
      ">1.00\n",
      ">1.00\n",
      ">1.00\n",
      ">1.00\n",
      ">1.00\n",
      ">1.00\n",
      ">1.00\n",
      ">1.00\n",
      ">1.00\n",
      ">1.00\n",
      ">1.00\n"
     ]
    }
   ],
   "source": [
    "\n",
    "...\n",
    "results = list()\n",
    "n_inputs, n_outputs = X.shape[1], y.shape[1]\n",
    "# define evaluation procedure\n",
    "cv = RepeatedKFold(n_splits=10, n_repeats=3, random_state=1)\n",
    "# enumerate folds\n",
    "for train_ix, test_ix in cv.split(X):\n",
    "\t# prepare data\n",
    "\tX_train, X_test = X[train_ix], X[test_ix]\n",
    "\ty_train, y_test = y[train_ix], y[test_ix]\n",
    "\tst_x= MinMaxScaler()\n",
    "\tX_train= st_x.fit_transform(X_train)\n",
    "\tX_test= st_x.transform(X_test)\n",
    "\t# fit model\n",
    "\tmodel.fit(X_train, y_train, verbose=0, epochs=200)\n",
    "\t# make a prediction on the test set\n",
    "\tyhat = model.predict(X_test)\n",
    "\t# print(yhat)\n",
    "\t# print(y_test)\n",
    "\t# round probabilities to class labels\n",
    "\tyhat = yhat.round()\n",
    "\t# calculate accuracy\n",
    "\tacc = accuracy_score(y_test, yhat)\n",
    "\t# store result\n",
    "\tprint('>%.2f' % acc)\n",
    "\tresults.append(acc)"
   ],
   "metadata": {
    "collapsed": false,
    "pycharm": {
     "name": "#%%\n"
    }
   }
  },
  {
   "cell_type": "code",
   "execution_count": 5,
   "outputs": [
    {
     "name": "stdout",
     "output_type": "stream",
     "text": [
      "Average accuracy: 91.25% \n",
      "Standart deviation: 17.31%\n"
     ]
    }
   ],
   "source": [
    "print('Average accuracy: %.2f%% \\nStandart deviation: %.2f%%' % ((mean(results))*100, (std(results)*100)))"
   ],
   "metadata": {
    "collapsed": false,
    "pycharm": {
     "name": "#%%\n"
    }
   }
  }
 ],
 "metadata": {
  "kernelspec": {
   "display_name": "Python 3",
   "language": "python",
   "name": "python3"
  },
  "language_info": {
   "codemirror_mode": {
    "name": "ipython",
    "version": 2
   },
   "file_extension": ".py",
   "mimetype": "text/x-python",
   "name": "python",
   "nbconvert_exporter": "python",
   "pygments_lexer": "ipython2",
   "version": "2.7.6"
  }
 },
 "nbformat": 4,
 "nbformat_minor": 0
}